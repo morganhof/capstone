{
 "cells": [
  {
   "cell_type": "markdown",
   "metadata": {},
   "source": [
    "#### Problem Statement  \n",
    "According to the EPA, of the household waste that ended up in landfills in 2018, 24% of that material was food waste, 18% was plastic materials, and 12% was paper/paperboard. Using a variety of images, I'll build convolutional neural network models that will accurately classify whether an item should be composted, recycled, or trashed to help everyday consumers determine which bin their waste should go in. I'll build an app that people can upload a photo to and it will determine which class their waste belongs in.\n",
    "\n",
    "* CITATION: https://www.epa.gov/facts-and-figures-about-materials-waste-and-recycling/national-overview-facts-and-figures-materials\n",
    "\n",
    "* Looking at accuracy?  \n",
    "\n",
    "#### Assumptions  \n",
    "* Everyone has access to compost, recycling, and trash services.  \n",
    "* The composting, recycling, and trash rules of my neighborhood are the rules in other locations.  \n",
    "* When in doubt, throw it out... If the image contains two different classifications - for example a banana (compost) with a sticker (trash) on it - the image will be classified to the category that is not obvious. So, the example above would be categorized as trash.  \n",
    "  \n",
    "#### Risks\n",
    "* Model may misclassify items, so this model may not be the holy grail for sorting.  \n",
    "  \n",
    "#### Data  \n",
    "* Sources:  \n",
    "* Data Dictionary: (data-types)  \n",
    "  \n",
    "#### EDA, Cleaning & Munging  \n",
    "* Organize data\n",
    "* Write functions to clean, where applicable\n",
    "* Highlight assumptions\n",
    "* Comment on approach\n",
    "* Examine distributions of each class\n",
    "* Identify outliers\n",
    "* Identify missing data and look for patterns of missing data\n",
    "* Describe how your EDA will inform your modeling decisions and process"
   ]
  },
  {
   "cell_type": "markdown",
   "metadata": {},
   "source": []
  }
 ],
 "metadata": {
  "language_info": {
   "name": "python"
  },
  "orig_nbformat": 4
 },
 "nbformat": 4,
 "nbformat_minor": 2
}
